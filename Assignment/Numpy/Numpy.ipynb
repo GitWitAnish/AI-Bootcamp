{
 "cells": [
  {
   "cell_type": "markdown",
   "id": "96c52bba-c531-4497-9c86-eb5c610de357",
   "metadata": {},
   "source": [
    "# Numpy Assignment\n"
   ]
  },
  {
   "cell_type": "markdown",
   "id": "52c46b53-e024-4591-bec5-d7bd708f8b76",
   "metadata": {},
   "source": [
    "### Exercise 1: Load and save numpy array from memory to disk.\n"
   ]
  },
  {
   "cell_type": "code",
   "execution_count": 2,
   "id": "cc451aa5-d2df-43ff-b10c-741d6af35664",
   "metadata": {},
   "outputs": [],
   "source": [
    "import numpy as np"
   ]
  },
  {
   "cell_type": "code",
   "execution_count": 4,
   "id": "20b0a900-ed90-47e0-b360-414255153ceb",
   "metadata": {},
   "outputs": [],
   "source": [
    "arr = np.array([1,2,3,4,5])"
   ]
  },
  {
   "cell_type": "code",
   "execution_count": 5,
   "id": "7b9929fd-8f56-49d1-b13b-02244439fda9",
   "metadata": {},
   "outputs": [],
   "source": [
    "np.save('arr.npy', arr) #binary form"
   ]
  },
  {
   "cell_type": "code",
   "execution_count": 7,
   "id": "259ec131-0e55-4474-8066-0cda2535b810",
   "metadata": {},
   "outputs": [],
   "source": [
    "loaded_bin = np.load('arr.npy')"
   ]
  },
  {
   "cell_type": "code",
   "execution_count": 8,
   "id": "fca673e9-62b4-4f56-bc3a-61124ae8c948",
   "metadata": {},
   "outputs": [
    {
     "name": "stdout",
     "output_type": "stream",
     "text": [
      "Loaded Array: [1 2 3 4 5]\n"
     ]
    }
   ],
   "source": [
    "print(\"Loaded Array:\", loaded_bin)"
   ]
  },
  {
   "cell_type": "code",
   "execution_count": 11,
   "id": "0192771f-d942-4676-a9cf-09f5452e6807",
   "metadata": {},
   "outputs": [],
   "source": [
    "np.savetxt('text_arr.txt', loaded_bin ) # text form"
   ]
  },
  {
   "cell_type": "code",
   "execution_count": 16,
   "id": "65f4da53-38ac-4af0-889d-4fea83517eb6",
   "metadata": {},
   "outputs": [],
   "source": [
    "loaded_txt = np.loadtxt('text_arr.txt')"
   ]
  },
  {
   "cell_type": "code",
   "execution_count": 17,
   "id": "4e07c70e-9894-48d6-83ea-22260ef9fa88",
   "metadata": {},
   "outputs": [
    {
     "name": "stdout",
     "output_type": "stream",
     "text": [
      "Loaded Array: [1. 2. 3. 4. 5.]\n"
     ]
    }
   ],
   "source": [
    "print(\"Loaded Array:\", loaded_txt)"
   ]
  },
  {
   "cell_type": "markdown",
   "id": "8d6c4a90-ea08-41e3-b288-e325ef712230",
   "metadata": {},
   "source": [
    "### Exercise 2: Implement an image filter using numpy array manipulation"
   ]
  },
  {
   "cell_type": "code",
   "execution_count": 19,
   "id": "bc1b131f-e147-4f68-bb87-ee29d9694b49",
   "metadata": {},
   "outputs": [],
   "source": [
    "import numpy as np\n",
    "from PIL import Image"
   ]
  },
  {
   "cell_type": "code",
   "execution_count": 20,
   "id": "36bb4b55-c651-4f44-ac9b-b947410c3f58",
   "metadata": {},
   "outputs": [
    {
     "name": "stdout",
     "output_type": "stream",
     "text": [
      "Original shape: (1024, 1024, 3)\n"
     ]
    }
   ],
   "source": [
    "img = Image.open(\"sample.jpg\") \n",
    "img_array = np.array(img)\n",
    "print(\"Original shape:\", img_array.shape) \n"
   ]
  },
  {
   "cell_type": "code",
   "execution_count": 21,
   "id": "3aa0f011-624f-4e31-bfc9-849f8ca24a52",
   "metadata": {},
   "outputs": [],
   "source": [
    "# Formula for grayscale: 0.2989*R + 0.5870*G + 0.1140*B\n",
    "grayscale = np.dot(img_array[...,:3], [0.2989, 0.5870, 0.1140]).astype(np.uint8)"
   ]
  },
  {
   "cell_type": "code",
   "execution_count": 22,
   "id": "ffe97e46-0c16-447f-b77b-de050dd79140",
   "metadata": {},
   "outputs": [],
   "source": [
    "Image.fromarray(grayscale).save(\"filtered_image.jpg\")"
   ]
  },
  {
   "cell_type": "code",
   "execution_count": 25,
   "id": "017ca222-7dde-402b-9d24-e71cae39ed2f",
   "metadata": {},
   "outputs": [],
   "source": [
    "# inversion\n",
    "\n",
    "inverted = 255 - grayscale\n",
    "Image.fromarray(inverted).save(\"inversion.jpg\")"
   ]
  },
  {
   "cell_type": "markdown",
   "id": "70b4c438-0ec9-4624-9492-b499ed018169",
   "metadata": {},
   "source": [
    "### Exercise 3: Implement 2d rotation of image using numpy"
   ]
  },
  {
   "cell_type": "code",
   "execution_count": 29,
   "id": "cc980cef-362f-4abe-9cdc-bccd44aa3e5a",
   "metadata": {},
   "outputs": [],
   "source": [
    "rotated_img = img.rotate(90, expand=True)"
   ]
  },
  {
   "cell_type": "code",
   "execution_count": 30,
   "id": "6d23ab7b-7307-4a96-a9a5-1d2c7b46c190",
   "metadata": {},
   "outputs": [],
   "source": [
    "rotated_img.save(\"rotated_image.jpg\")"
   ]
  },
  {
   "cell_type": "code",
   "execution_count": null,
   "id": "66570a0e-e954-4702-a49e-9540726a1e23",
   "metadata": {},
   "outputs": [],
   "source": []
  }
 ],
 "metadata": {
  "kernelspec": {
   "display_name": "Python 3 (ipykernel)",
   "language": "python",
   "name": "python3"
  },
  "language_info": {
   "codemirror_mode": {
    "name": "ipython",
    "version": 3
   },
   "file_extension": ".py",
   "mimetype": "text/x-python",
   "name": "python",
   "nbconvert_exporter": "python",
   "pygments_lexer": "ipython3",
   "version": "3.12.7"
  }
 },
 "nbformat": 4,
 "nbformat_minor": 5
}
